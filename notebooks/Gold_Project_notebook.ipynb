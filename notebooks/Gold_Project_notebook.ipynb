{
 "cells": [
  {
   "cell_type": "markdown",
   "metadata": {},
   "source": [
    "# <center>Gold price prediction and the selection of most significant features</center>"
   ]
  },
  {
   "cell_type": "markdown",
   "metadata": {},
   "source": [
    "Gold price variation can be sensitive to many features such as global economy, international tension, epidemic or global pandemic, and so on. SPDR Gold Trust (GLD) exchange-traded fund (ETF) is a good indicator and tracker for the movement of gold price. Many efforts have been done by other scientists and researchers regarding this topic [1-7]. In this project, we are going to analysis the GLD price data, and try to predict future GLD prices, by exploring features which affect the price of gold more significantly."
   ]
  },
  {
   "cell_type": "markdown",
   "metadata": {},
   "source": [
    "### Data Collection, Wrangling, and Exploratory Analysis"
   ]
  },
  {
   "cell_type": "markdown",
   "metadata": {},
   "source": [
    "Historical GLD price data were obtained from NYSE Arca delayed price in USD at yahoo.com [8]. The time period is from Nov 18, 2004 to Dec 19, 2020, including daily values except weekends and holidays."
   ]
  },
  {
   "cell_type": "code",
   "execution_count": 1,
   "metadata": {},
   "outputs": [
    {
     "name": "stderr",
     "output_type": "stream",
     "text": [
      "e:\\programdata\\condaenv\\springboard\\lib\\site-packages\\pyramid\\__init__.py:68: UserWarning: \n",
      "    The 'pyramid' package will be migrating to a new namespace beginning in \n",
      "    version 1.0.0: 'pmdarima'. This is due to a package name collision with the\n",
      "    Pyramid web framework. For more information, see Issue #34:\n",
      "    \n",
      "        https://github.com/tgsmith61591/pyramid/issues/34\n",
      "        \n",
      "    The package will subsequently be installable via the name 'pmdarima'; the\n",
      "    only functional change to the user will be the import name. All imports\n",
      "    from 'pyramid' will change to 'pmdarima'.\n",
      "    \n",
      "  \"\"\", UserWarning)\n"
     ]
    }
   ],
   "source": [
    "# importing all necessary packages\n",
    "import pandas as pd\n",
    "import numpy as np\n",
    "import matplotlib.pyplot as plt\n",
    "import matplotlib as mpl\n",
    "import seaborn as sns\n",
    "import tqdm\n",
    "import sklearn\n",
    "from sklearn.model_selection import train_test_split\n",
    "from sklearn.pipeline import make_pipeline\n",
    "from sklearn.preprocessing import StandardScaler\n",
    "from sklearn.linear_model import LinearRegression\n",
    "from statsmodels.tsa.stattools import adfuller\n",
    "from datetime import datetime, timezone, timedelta\n",
    "import six\n",
    "import sys\n",
    "sys.modules['sklearn.externals.six'] = six\n",
    "from pyramid.arima import auto_arima\n",
    "from statsmodels.tsa.arima.model import ARIMA\n",
    "mpl.rcParams['figure.dpi']=120\n",
    "plt.rcParams[\"font.family\"] = \"arial\"\n"
   ]
  },
  {
   "cell_type": "markdown",
   "metadata": {},
   "source": [
    "We firstly loaded the data, followed by filling the missing values of weekends and holidays with previous day's values. Then we selected closing price as dependent variable for prediction."
   ]
  },
  {
   "cell_type": "code",
   "execution_count": 2,
   "metadata": {},
   "outputs": [
    {
     "data": {
      "text/html": [
       "<div>\n",
       "<style scoped>\n",
       "    .dataframe tbody tr th:only-of-type {\n",
       "        vertical-align: middle;\n",
       "    }\n",
       "\n",
       "    .dataframe tbody tr th {\n",
       "        vertical-align: top;\n",
       "    }\n",
       "\n",
       "    .dataframe thead th {\n",
       "        text-align: right;\n",
       "    }\n",
       "</style>\n",
       "<table border=\"1\" class=\"dataframe\">\n",
       "  <thead>\n",
       "    <tr style=\"text-align: right;\">\n",
       "      <th></th>\n",
       "      <th>Open</th>\n",
       "      <th>High</th>\n",
       "      <th>Low</th>\n",
       "      <th>Close</th>\n",
       "      <th>Adj Close</th>\n",
       "      <th>Volume</th>\n",
       "    </tr>\n",
       "    <tr>\n",
       "      <th>Date</th>\n",
       "      <th></th>\n",
       "      <th></th>\n",
       "      <th></th>\n",
       "      <th></th>\n",
       "      <th></th>\n",
       "      <th></th>\n",
       "    </tr>\n",
       "  </thead>\n",
       "  <tbody>\n",
       "    <tr>\n",
       "      <th>2004-11-19</th>\n",
       "      <td>44.490002</td>\n",
       "      <td>44.919998</td>\n",
       "      <td>44.470001</td>\n",
       "      <td>44.779999</td>\n",
       "      <td>44.779999</td>\n",
       "      <td>11655300</td>\n",
       "    </tr>\n",
       "    <tr>\n",
       "      <th>2004-11-20</th>\n",
       "      <td>44.490002</td>\n",
       "      <td>44.919998</td>\n",
       "      <td>44.470001</td>\n",
       "      <td>44.779999</td>\n",
       "      <td>44.779999</td>\n",
       "      <td>11655300</td>\n",
       "    </tr>\n",
       "    <tr>\n",
       "      <th>2004-11-21</th>\n",
       "      <td>44.490002</td>\n",
       "      <td>44.919998</td>\n",
       "      <td>44.470001</td>\n",
       "      <td>44.779999</td>\n",
       "      <td>44.779999</td>\n",
       "      <td>11655300</td>\n",
       "    </tr>\n",
       "    <tr>\n",
       "      <th>2004-11-22</th>\n",
       "      <td>44.750000</td>\n",
       "      <td>44.970001</td>\n",
       "      <td>44.740002</td>\n",
       "      <td>44.950001</td>\n",
       "      <td>44.950001</td>\n",
       "      <td>11996000</td>\n",
       "    </tr>\n",
       "    <tr>\n",
       "      <th>2004-11-23</th>\n",
       "      <td>44.880001</td>\n",
       "      <td>44.919998</td>\n",
       "      <td>44.720001</td>\n",
       "      <td>44.750000</td>\n",
       "      <td>44.750000</td>\n",
       "      <td>3169200</td>\n",
       "    </tr>\n",
       "  </tbody>\n",
       "</table>\n",
       "</div>"
      ],
      "text/plain": [
       "                 Open       High        Low      Close  Adj Close    Volume\n",
       "Date                                                                       \n",
       "2004-11-19  44.490002  44.919998  44.470001  44.779999  44.779999  11655300\n",
       "2004-11-20  44.490002  44.919998  44.470001  44.779999  44.779999  11655300\n",
       "2004-11-21  44.490002  44.919998  44.470001  44.779999  44.779999  11655300\n",
       "2004-11-22  44.750000  44.970001  44.740002  44.950001  44.950001  11996000\n",
       "2004-11-23  44.880001  44.919998  44.720001  44.750000  44.750000   3169200"
      ]
     },
     "execution_count": 2,
     "metadata": {},
     "output_type": "execute_result"
    }
   ],
   "source": [
    "# Load the csv data as pd.DataFrame, wrangle, and perform EDA\n",
    "raw_data=pd.read_csv('..\\\\data\\\\raw\\\\GLD.csv', parse_dates=True, index_col='Date')\n",
    "# Fill the missing values for weekends and holidays with previous valid values\n",
    "filled_data=raw_data.resample('D').ffill()\n",
    "filled_data.head()"
   ]
  },
  {
   "cell_type": "code",
   "execution_count": 3,
   "metadata": {},
   "outputs": [
    {
     "data": {
      "text/plain": [
       "Open         0\n",
       "High         0\n",
       "Low          0\n",
       "Close        0\n",
       "Adj Close    0\n",
       "Volume       0\n",
       "dtype: int64"
      ]
     },
     "execution_count": 3,
     "metadata": {},
     "output_type": "execute_result"
    }
   ],
   "source": [
    "# Check missing data: there is no missing data in the data set.\n",
    "filled_data.isna().sum()"
   ]
  },
  {
   "cell_type": "code",
   "execution_count": 4,
   "metadata": {},
   "outputs": [
    {
     "data": {
      "text/html": [
       "<div>\n",
       "<style scoped>\n",
       "    .dataframe tbody tr th:only-of-type {\n",
       "        vertical-align: middle;\n",
       "    }\n",
       "\n",
       "    .dataframe tbody tr th {\n",
       "        vertical-align: top;\n",
       "    }\n",
       "\n",
       "    .dataframe thead th {\n",
       "        text-align: right;\n",
       "    }\n",
       "</style>\n",
       "<table border=\"1\" class=\"dataframe\">\n",
       "  <thead>\n",
       "    <tr style=\"text-align: right;\">\n",
       "      <th></th>\n",
       "      <th>Open</th>\n",
       "      <th>High</th>\n",
       "      <th>Low</th>\n",
       "      <th>Close</th>\n",
       "      <th>Adj Close</th>\n",
       "      <th>Volume</th>\n",
       "    </tr>\n",
       "  </thead>\n",
       "  <tbody>\n",
       "    <tr>\n",
       "      <th>count</th>\n",
       "      <td>5874.000000</td>\n",
       "      <td>5874.000000</td>\n",
       "      <td>5874.000000</td>\n",
       "      <td>5874.000000</td>\n",
       "      <td>5874.000000</td>\n",
       "      <td>5.874000e+03</td>\n",
       "    </tr>\n",
       "    <tr>\n",
       "      <th>mean</th>\n",
       "      <td>112.887143</td>\n",
       "      <td>113.464137</td>\n",
       "      <td>112.280187</td>\n",
       "      <td>112.906845</td>\n",
       "      <td>112.906845</td>\n",
       "      <td>9.854389e+06</td>\n",
       "    </tr>\n",
       "    <tr>\n",
       "      <th>std</th>\n",
       "      <td>35.257236</td>\n",
       "      <td>35.376871</td>\n",
       "      <td>35.103591</td>\n",
       "      <td>35.248126</td>\n",
       "      <td>35.248126</td>\n",
       "      <td>7.159513e+06</td>\n",
       "    </tr>\n",
       "    <tr>\n",
       "      <th>min</th>\n",
       "      <td>41.029999</td>\n",
       "      <td>41.360001</td>\n",
       "      <td>41.020000</td>\n",
       "      <td>41.259998</td>\n",
       "      <td>41.259998</td>\n",
       "      <td>3.193000e+05</td>\n",
       "    </tr>\n",
       "    <tr>\n",
       "      <th>25%</th>\n",
       "      <td>89.720001</td>\n",
       "      <td>90.652500</td>\n",
       "      <td>89.160004</td>\n",
       "      <td>89.862499</td>\n",
       "      <td>89.862499</td>\n",
       "      <td>5.302275e+06</td>\n",
       "    </tr>\n",
       "    <tr>\n",
       "      <th>50%</th>\n",
       "      <td>118.494999</td>\n",
       "      <td>118.940002</td>\n",
       "      <td>117.980003</td>\n",
       "      <td>118.489998</td>\n",
       "      <td>118.489998</td>\n",
       "      <td>8.259950e+06</td>\n",
       "    </tr>\n",
       "    <tr>\n",
       "      <th>75%</th>\n",
       "      <td>133.040001</td>\n",
       "      <td>133.680000</td>\n",
       "      <td>132.345005</td>\n",
       "      <td>133.110001</td>\n",
       "      <td>133.110001</td>\n",
       "      <td>1.227280e+07</td>\n",
       "    </tr>\n",
       "    <tr>\n",
       "      <th>max</th>\n",
       "      <td>193.740005</td>\n",
       "      <td>194.449997</td>\n",
       "      <td>192.520004</td>\n",
       "      <td>193.889999</td>\n",
       "      <td>193.889999</td>\n",
       "      <td>9.380420e+07</td>\n",
       "    </tr>\n",
       "  </tbody>\n",
       "</table>\n",
       "</div>"
      ],
      "text/plain": [
       "              Open         High          Low        Close    Adj Close  \\\n",
       "count  5874.000000  5874.000000  5874.000000  5874.000000  5874.000000   \n",
       "mean    112.887143   113.464137   112.280187   112.906845   112.906845   \n",
       "std      35.257236    35.376871    35.103591    35.248126    35.248126   \n",
       "min      41.029999    41.360001    41.020000    41.259998    41.259998   \n",
       "25%      89.720001    90.652500    89.160004    89.862499    89.862499   \n",
       "50%     118.494999   118.940002   117.980003   118.489998   118.489998   \n",
       "75%     133.040001   133.680000   132.345005   133.110001   133.110001   \n",
       "max     193.740005   194.449997   192.520004   193.889999   193.889999   \n",
       "\n",
       "             Volume  \n",
       "count  5.874000e+03  \n",
       "mean   9.854389e+06  \n",
       "std    7.159513e+06  \n",
       "min    3.193000e+05  \n",
       "25%    5.302275e+06  \n",
       "50%    8.259950e+06  \n",
       "75%    1.227280e+07  \n",
       "max    9.380420e+07  "
      ]
     },
     "execution_count": 4,
     "metadata": {},
     "output_type": "execute_result"
    }
   ],
   "source": [
    "# Describe of the data set.\n",
    "filled_data.describe()"
   ]
  },
  {
   "cell_type": "markdown",
   "metadata": {},
   "source": [
    "Here we take Close price as dependent variable, and subset the Close column."
   ]
  },
  {
   "cell_type": "code",
   "execution_count": 5,
   "metadata": {},
   "outputs": [
    {
     "data": {
      "image/png": "[encoded data removed]",
      "text/plain": [
       "<Figure size 720x480 with 1 Axes>"
      ]
     },
     "metadata": {
      "needs_background": "light"
     },
     "output_type": "display_data"
    }
   ],
   "source": [
    "data=filled_data[['Close']]\n",
    "fig, ax=plt.subplots(1, 1)\n",
    "ax.plot(data, linewidth=0.5)\n",
    "ax.get_xaxis().set_minor_locator(mpl.ticker.AutoMinorLocator())\n",
    "ax.get_yaxis().set_minor_locator(mpl.ticker.AutoMinorLocator())\n",
    "ax.set_xlabel('Time')\n",
    "ax.set_ylabel('GLD price (USD)')\n",
    "plt.show()"
   ]
  },
  {
   "cell_type": "code",
   "execution_count": null,
   "metadata": {},
   "outputs": [],
   "source": []
  },
  {
   "cell_type": "code",
   "execution_count": null,
   "metadata": {},
   "outputs": [],
   "source": []
  },
  {
   "cell_type": "code",
   "execution_count": null,
   "metadata": {},
   "outputs": [],
   "source": []
  },
  {
   "cell_type": "code",
   "execution_count": null,
   "metadata": {},
   "outputs": [],
   "source": []
  },
  {
   "cell_type": "code",
   "execution_count": null,
   "metadata": {},
   "outputs": [],
   "source": []
  },
  {
   "cell_type": "code",
   "execution_count": null,
   "metadata": {},
   "outputs": [],
   "source": []
  },
  {
   "cell_type": "code",
   "execution_count": null,
   "metadata": {},
   "outputs": [],
   "source": []
  },
  {
   "cell_type": "code",
   "execution_count": null,
   "metadata": {},
   "outputs": [],
   "source": []
  },
  {
   "cell_type": "code",
   "execution_count": null,
   "metadata": {},
   "outputs": [],
   "source": []
  },
  {
   "cell_type": "markdown",
   "metadata": {},
   "source": [
    "### Modeling and Prediction"
   ]
  },
  {
   "cell_type": "markdown",
   "metadata": {},
   "source": [
    "#### Internal Features"
   ]
  },
  {
   "cell_type": "markdown",
   "metadata": {},
   "source": [
    "We would like to see if the close price is stationary, which means its probability distribution does not change over time [1]. We performed an Augmented Dicky-Fuller test on the close price. The p-value is 0.647 which is significantly larger than 0.05, indicating that the close price cannot be considered as stationary values. There are time-dependent structures in the close price values."
   ]
  },
  {
   "cell_type": "code",
   "execution_count": 6,
   "metadata": {},
   "outputs": [
    {
     "name": "stdout",
     "output_type": "stream",
     "text": [
      "ADF Statistic: \t-1.261\n",
      "p-value: \t0.647\n",
      "Critical Values:\n",
      "\t1%: \t-3.431\n",
      "\t5%: \t-2.862\n",
      "\t10%: \t-2.567\n"
     ]
    }
   ],
   "source": [
    "adfuller_result=adfuller(data['Close'])\n",
    "print('ADF Statistic: \\t{:.3f}'.format(adfuller_result[0]))\n",
    "print('p-value: \\t{:.3f}'.format(adfuller_result[1]))\n",
    "print('Critical Values:')\n",
    "for key, value in adfuller_result[4].items():\n",
    "    print('\\t{}: \\t{:.3f}'.format(key, value))"
   ]
  },
  {
   "cell_type": "markdown",
   "metadata": {},
   "source": [
    "First, we are going to utilize a widely used statistical model for time series forecasting: AutoRegressive Integrated Moving Average (ARIMA) [9, 10], without any external features (exogenous variables). The number of autoregressive lags (p), order of differencing (d, which makes the data stationary), and number of moving average lags (q) will be optimized automatically by an auto_arima function.    "
   ]
  },
  {
   "cell_type": "code",
   "execution_count": 7,
   "metadata": {},
   "outputs": [
    {
     "name": "stdout",
     "output_type": "stream",
     "text": [
      "Fit ARIMA: order=(1, 1, 1); AIC=nan, BIC=nan, Fit time=nan seconds\n",
      "Fit ARIMA: order=(0, 1, 0); AIC=16080.915, BIC=16094.148, Fit time=0.017 seconds\n",
      "Fit ARIMA: order=(1, 1, 0); AIC=16075.167, BIC=16095.016, Fit time=0.069 seconds\n",
      "Fit ARIMA: order=(0, 1, 1); AIC=16075.302, BIC=16095.151, Fit time=0.054 seconds\n",
      "Fit ARIMA: order=(2, 1, 0); AIC=16076.803, BIC=16103.268, Fit time=0.113 seconds\n",
      "Fit ARIMA: order=(2, 1, 1); AIC=nan, BIC=nan, Fit time=nan seconds\n",
      "Total fit time: 2.631 seconds\n"
     ]
    }
   ],
   "source": [
    "# Establish the auto arima model\n",
    "arima_model=auto_arima(data.loc[:datetime(2020, 1, 1)],\n",
    "                      seasonal=False,\n",
    "                      start_p=1,\n",
    "                      start_q=1,\n",
    "                      information_criterion='aic',\n",
    "                      trace=True,\n",
    "                      error_action='ignore',\n",
    "                      suppress_warnings=True,\n",
    "                      stepwise=True)"
   ]
  },
  {
   "cell_type": "code",
   "execution_count": 8,
   "metadata": {},
   "outputs": [
    {
     "data": {
      "text/plain": [
       "ARIMA(order=(1, 1, 0), scoring_args={}, suppress_warnings=True)"
      ]
     },
     "execution_count": 8,
     "metadata": {},
     "output_type": "execute_result"
    }
   ],
   "source": [
    "# Train the arima model with the data before 2010. \n",
    "# Note that the model never sees the data after 2010 before prediction\n",
    "arima_model.fit(data.loc[:datetime(2020, 1, 1)])"
   ]
  },
  {
   "cell_type": "code",
   "execution_count": 9,
   "metadata": {
    "scrolled": false
   },
   "outputs": [
    {
     "data": {
      "image/png": "[encoded data removed]",
      "text/plain": [
       "<Figure size 720x480 with 1 Axes>"
      ]
     },
     "metadata": {
      "needs_background": "light"
     },
     "output_type": "display_data"
    }
   ],
   "source": [
    "# Predict 2020 data\n",
    "y_test, conf_int=arima_model.predict(n_periods=len(data.loc[datetime(2020, 1, 1):].index), \n",
    "                                                  return_conf_int=True,\n",
    "                                                  alpha=0.05)\n",
    "prediction_2020=pd.DataFrame(y_test, \n",
    "                             index=data.loc[datetime(2020, 1, 1):].index, \n",
    "                             columns=['Prediction'])\n",
    "# Plot\n",
    "fig, ax=plt.subplots(1, 1)\n",
    "ax.plot(data.index, data['Close'], \n",
    "        label='Closing Price',\n",
    "       linewidth=0.5)\n",
    "ax.plot(prediction_2020, label='Prediction',\n",
    "       alpha=0.7, \n",
    "       linewidth=0.5, c='r')\n",
    "ax.fill_between(data.loc[datetime(2020, 1, 1):].index,\n",
    "               [ele[1] for ele in conf_int],\n",
    "               [ele[0] for ele in conf_int],\n",
    "               alpha=0.2,\n",
    "               color='r',\n",
    "               linewidth=0.0)\n",
    "ax.get_xaxis().set_minor_locator(mpl.ticker.AutoMinorLocator())\n",
    "ax.get_yaxis().set_minor_locator(mpl.ticker.AutoMinorLocator())\n",
    "ax.set_xlabel('Time')\n",
    "ax.set_ylabel('GLD price (USD)')\n",
    "ax.legend(frameon=False)\n",
    "plt.show()\n"
   ]
  },
  {
   "cell_type": "markdown",
   "metadata": {},
   "source": [
    "The ARIMA model performs much better than linear regression model: the predicted 2020 GLD price trend is closer to the actual data. The 95% confidence interval includes most of the actual price data. This prediction approach is close to Aihui Ong's work [1]. \n",
    "\n",
    "Now it's time to look into the future. We are going to re-train this model with all-time data, and predict the GLD prices in 2021 and 2022."
   ]
  },
  {
   "cell_type": "code",
   "execution_count": 10,
   "metadata": {},
   "outputs": [
    {
     "name": "stdout",
     "output_type": "stream",
     "text": [
      "Fit ARIMA: order=(1, 1, 1); AIC=nan, BIC=nan, Fit time=nan seconds\n",
      "Fit ARIMA: order=(0, 1, 0); AIC=17687.089, BIC=17700.445, Fit time=0.019 seconds\n",
      "Fit ARIMA: order=(1, 1, 0); AIC=17685.130, BIC=17705.165, Fit time=0.067 seconds\n",
      "Fit ARIMA: order=(0, 1, 1); AIC=17685.194, BIC=17705.229, Fit time=0.057 seconds\n",
      "Fit ARIMA: order=(2, 1, 0); AIC=17686.794, BIC=17713.507, Fit time=0.121 seconds\n",
      "Fit ARIMA: order=(2, 1, 1); AIC=nan, BIC=nan, Fit time=nan seconds\n",
      "Total fit time: 2.795 seconds\n"
     ]
    },
    {
     "data": {
      "text/plain": [
       "ARIMA(order=(1, 1, 0), scoring_args={}, suppress_warnings=True)"
      ]
     },
     "execution_count": 10,
     "metadata": {},
     "output_type": "execute_result"
    }
   ],
   "source": [
    "arima_model=auto_arima(data,\n",
    "                      seasonal=False,\n",
    "                      start_p=1,\n",
    "                      start_q=1,\n",
    "                      information_criterion='aic',\n",
    "                      trace=True,\n",
    "                      error_action='ignore',\n",
    "                      suppress_warnings=True,\n",
    "                      stepwise=True)\n",
    "arima_model.fit(data)"
   ]
  },
  {
   "cell_type": "code",
   "execution_count": 11,
   "metadata": {},
   "outputs": [
    {
     "data": {
      "image/png": "[encoded data removed]",
      "text/plain": [
       "<Figure size 720x480 with 1 Axes>"
      ]
     },
     "metadata": {
      "needs_background": "light"
     },
     "output_type": "display_data"
    }
   ],
   "source": [
    "# From the end of the data set to the last day of 2022\n",
    "future_time_frame=[data.iloc[-1].name.date()+timedelta(days=i) for i in range(1, 744)]\n",
    "y_test, conf_int=arima_model.predict(n_periods=len(future_time_frame), \n",
    "                                                  return_conf_int=True,\n",
    "                                                  alpha=0.05)\n",
    "prediction_2022=pd.DataFrame(y_test, \n",
    "                             index=future_time_frame, \n",
    "                             columns=['Prediction'])\n",
    "# Plot\n",
    "fig, ax=plt.subplots(1, 1)\n",
    "ax.plot(data.index, data['Close'], \n",
    "        label='Closing Price',\n",
    "       linewidth=0.5)\n",
    "ax.plot(prediction_2022, label='Prediction to 2022',\n",
    "       alpha=0.7, \n",
    "       linewidth=0.5, c='r')\n",
    "ax.fill_between(future_time_frame,\n",
    "               [ele[1] for ele in conf_int],\n",
    "               [ele[0] for ele in conf_int],\n",
    "               alpha=0.2,\n",
    "               color='r',\n",
    "               linewidth=0.0)\n",
    "ax.get_xaxis().set_minor_locator(mpl.ticker.AutoMinorLocator())\n",
    "ax.get_yaxis().set_minor_locator(mpl.ticker.AutoMinorLocator())\n",
    "ax.set_xlabel('Time')\n",
    "ax.set_ylabel('GLD price (USD)')\n",
    "ax.legend(loc='upper left', frameon=False)\n",
    "plt.show()"
   ]
  },
  {
   "cell_type": "markdown",
   "metadata": {},
   "source": [
    "There is large probability that the GLD price is still going up in two years despite a recent dropping. So far the prediction work only used historical GLD price data, and sometimes the prediction can catch the moving momentum of price changes in a short time window. In order to improve the capacity of the model, we are going to consider external features as well. Because predicting future gold prices also needs to predict all kinds of future external features, and most of the features are hard to predict precisely. Therefore, this project is focusing on short-term prediction, such as one week, using the external features in the past. "
   ]
  },
  {
   "cell_type": "markdown",
   "metadata": {},
   "source": [
    "#### Internal and External Features"
   ]
  },
  {
   "cell_type": "code",
   "execution_count": null,
   "metadata": {},
   "outputs": [],
   "source": []
  },
  {
   "cell_type": "code",
   "execution_count": null,
   "metadata": {},
   "outputs": [],
   "source": []
  },
  {
   "cell_type": "code",
   "execution_count": null,
   "metadata": {},
   "outputs": [],
   "source": []
  },
  {
   "cell_type": "code",
   "execution_count": null,
   "metadata": {},
   "outputs": [],
   "source": []
  },
  {
   "cell_type": "markdown",
   "metadata": {},
   "source": [
    "### Conclusion"
   ]
  },
  {
   "cell_type": "code",
   "execution_count": null,
   "metadata": {},
   "outputs": [],
   "source": []
  },
  {
   "cell_type": "code",
   "execution_count": null,
   "metadata": {},
   "outputs": [],
   "source": []
  },
  {
   "cell_type": "code",
   "execution_count": null,
   "metadata": {},
   "outputs": [],
   "source": []
  },
  {
   "cell_type": "code",
   "execution_count": null,
   "metadata": {},
   "outputs": [],
   "source": []
  },
  {
   "cell_type": "code",
   "execution_count": null,
   "metadata": {},
   "outputs": [],
   "source": []
  },
  {
   "cell_type": "code",
   "execution_count": null,
   "metadata": {},
   "outputs": [],
   "source": []
  },
  {
   "cell_type": "code",
   "execution_count": null,
   "metadata": {},
   "outputs": [],
   "source": []
  },
  {
   "cell_type": "markdown",
   "metadata": {},
   "source": [
    "### References\n",
    "[1] Aihui Ong, Is Gold a Good Investment? Gold Price Prediction Using Machine Learning Techniques. https://www.springboard.com/blog/gold-price-prediction-using-machine-learning, 2020.\n",
    "\n",
    "[2] Bhanu Yerra, Predicting Tomorrows Gold Price. Do We Have a Market Advantage? https://mlbhanuyerra.github.io/2019-10-12-Predicting-Tomorrows-Gold-Price/, 2019.\n",
    "\n",
    "[3] ur Sami, I., and Khurum Nazir Junejo. Predicting Future Gold Rates using Machine Learning Approach. International Journal of Advanced Computer Science and Applications 8, no. 12: 92-99, 2017.\n",
    "\n",
    "[4] Potoski, Megan. Predicting gold prices. CS229, Autumn, 2013.\n",
    "\n",
    "[5] Ishan Shah, and Rekhit Pachanekar, Gold Price Prediction Using Machine Learning In Python. https://blog.quantinsti.com/gold-price-prediction-using-machine-learning-python/, 2020  \n",
    "\n",
    "[6] Bingol, Sakir, Safaa Sadik, Raland Matenggo, Hatim Badr Mouhcine, Jihad Albaf, Salma Chaabene, and Aaron Auta. Gold price prediction in times of 4inancial and geopolitical uncertainty: A machine learning approach. 2020.\n",
    "\n",
    "[7] Zhu, Han-chao, and Wang, Dong. Predict the price of gold Based on Machine Learning Techniques. DEStech Transactions on Computer Science and Engineering mmsta, 2017.\n",
    "\n",
    "[8] https://finance.yahoo.com/quote/GLD/history?p=GLD\n",
    "\n",
    "[9] Box, George EP, Gwilym M. Jenkins, Gregory C. Reinsel, and Greta M. Ljung. Time series analysis: forecasting and control. John Wiley & Sons, 2015.\n",
    "\n",
    "[10] Ariyo, Adebiyi A., Adewumi O. Adewumi, and Charles K. Ayo. \"Stock price prediction using the ARIMA model.\" In 2014 UKSim-AMSS 16th International Conference on Computer Modelling and Simulation, pp. 106-112. IEEE, 2014.\n"
   ]
  }
 ],
 "metadata": {
  "kernelspec": {
   "display_name": "Python 3",
   "language": "python",
   "name": "python3"
  },
  "language_info": {
   "codemirror_mode": {
    "name": "ipython",
    "version": 3
   },
   "file_extension": ".py",
   "mimetype": "text/x-python",
   "name": "python",
   "nbconvert_exporter": "python",
   "pygments_lexer": "ipython3",
   "version": "3.7.4"
  }
 },
 "nbformat": 4,
 "nbformat_minor": 4
}
